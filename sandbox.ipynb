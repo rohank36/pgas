{
 "cells": [
  {
   "cell_type": "code",
   "execution_count": 1,
   "id": "a6147ec9",
   "metadata": {},
   "outputs": [],
   "source": [
    "import gymnasium as gym\n",
    "import torch\n",
    "import time\n",
    "import matplotlib.pyplot as plt"
   ]
  },
  {
   "cell_type": "code",
   "execution_count": 44,
   "id": "aaf55d20",
   "metadata": {},
   "outputs": [],
   "source": [
    "class ValueFunction(torch.nn.Module):\n",
    "    def __init__(self, in_dim:int, hidden_dim:int, out_dim:int):\n",
    "        super().__init__()\n",
    "\n",
    "        self.ffnn = torch.nn.Sequential(\n",
    "            torch.nn.Linear(in_dim,hidden_dim),\n",
    "            torch.nn.ReLU(),\n",
    "            torch.nn.Linear(hidden_dim,out_dim),\n",
    "        )\n",
    "\n",
    "    def get_value(self,state):\n",
    "        logits = self.ffnn(state)\n",
    "        return logits\n",
    "\n",
    "    def loss_fn(self,batch_states,batch_rtgs):\n",
    "        preds = self.ffnn(batch_states)\n",
    "        print(preds.shape)\n",
    "        print(preds)\n",
    "        preds = preds.squeeze(-1)\n",
    "        print(preds.shape)\n",
    "        print(preds)\n",
    "        return torch.nn.functional.mse_loss(preds,batch_rtgs)\n",
    "       "
   ]
  },
  {
   "cell_type": "code",
   "execution_count": 41,
   "id": "df46e11f",
   "metadata": {},
   "outputs": [],
   "source": [
    "env_headless = gym.make('CartPole-v1')\n",
    "env = env_headless\n",
    "\n",
    "in_dim = env.observation_space.shape[0] # (4,)\n",
    "out_dim = env.action_space.n # (2,)\n",
    "hidden_dim = 32\n",
    "value_fn = ValueFunction(in_dim,hidden_dim,1)"
   ]
  },
  {
   "cell_type": "code",
   "execution_count": 49,
   "id": "4f80c17f",
   "metadata": {},
   "outputs": [],
   "source": [
    "state,info = env.reset()\n",
    "sl = state.tolist()\n",
    "a = [sl]*3\n",
    "predicted_values = value_fn.get_value(torch.as_tensor(a,dtype=torch.float32))"
   ]
  },
  {
   "cell_type": "code",
   "execution_count": 50,
   "id": "78029db1",
   "metadata": {},
   "outputs": [
    {
     "data": {
      "text/plain": [
       "torch.Size([3, 1])"
      ]
     },
     "execution_count": 50,
     "metadata": {},
     "output_type": "execute_result"
    }
   ],
   "source": [
    "predicted_values.shape"
   ]
  },
  {
   "cell_type": "code",
   "execution_count": 55,
   "id": "402bba7d",
   "metadata": {},
   "outputs": [
    {
     "name": "stdout",
     "output_type": "stream",
     "text": [
      "tensor([1])\n",
      "tensor(1)\n"
     ]
    }
   ],
   "source": [
    "aten = torch.tensor([1])\n",
    "print(aten)\n",
    "aten = aten.squeeze(-1)\n",
    "print(aten)"
   ]
  },
  {
   "cell_type": "code",
   "execution_count": 57,
   "id": "742d6a06",
   "metadata": {},
   "outputs": [
    {
     "data": {
      "text/plain": [
       "tensor([2, 1, 2])"
      ]
     },
     "execution_count": 57,
     "metadata": {},
     "output_type": "execute_result"
    }
   ],
   "source": [
    "torch.tensor([3,2,3]) - torch.tensor([1,1,1])"
   ]
  },
  {
   "cell_type": "code",
   "execution_count": 58,
   "id": "fb6474e3",
   "metadata": {},
   "outputs": [
    {
     "data": {
      "text/plain": [
       "0.03"
      ]
     },
     "execution_count": 58,
     "metadata": {},
     "output_type": "execute_result"
    }
   ],
   "source": [
    "3e-2"
   ]
  },
  {
   "cell_type": "code",
   "execution_count": 59,
   "id": "5b2fe53d",
   "metadata": {},
   "outputs": [
    {
     "data": {
      "text/plain": [
       "0.0001"
      ]
     },
     "execution_count": 59,
     "metadata": {},
     "output_type": "execute_result"
    }
   ],
   "source": [
    "1e-4"
   ]
  },
  {
   "cell_type": "code",
   "execution_count": 62,
   "id": "5bfbbf89",
   "metadata": {},
   "outputs": [],
   "source": [
    "targets = torch.tensor([1,2,3],dtype=torch.float32)\n",
    "preds = torch.tensor([1,2,3],dtype=torch.float32)"
   ]
  },
  {
   "cell_type": "code",
   "execution_count": 63,
   "id": "139d2cb1",
   "metadata": {},
   "outputs": [],
   "source": [
    "if torch.var(targets)<1e-8:\n",
    "            ev = 0\n",
    "else:\n",
    "    ev = 1 - (torch.var(targets-preds)/torch.var(targets))"
   ]
  },
  {
   "cell_type": "code",
   "execution_count": 66,
   "id": "fa47fd11",
   "metadata": {},
   "outputs": [
    {
     "name": "stdout",
     "output_type": "stream",
     "text": [
      "1.0\n"
     ]
    }
   ],
   "source": [
    "print(ev.item())"
   ]
  },
  {
   "cell_type": "code",
   "execution_count": null,
   "id": "28ff4252",
   "metadata": {},
   "outputs": [],
   "source": []
  }
 ],
 "metadata": {
  "kernelspec": {
   "display_name": "rl_env",
   "language": "python",
   "name": "python3"
  },
  "language_info": {
   "codemirror_mode": {
    "name": "ipython",
    "version": 3
   },
   "file_extension": ".py",
   "mimetype": "text/x-python",
   "name": "python",
   "nbconvert_exporter": "python",
   "pygments_lexer": "ipython3",
   "version": "3.10.16"
  }
 },
 "nbformat": 4,
 "nbformat_minor": 5
}
