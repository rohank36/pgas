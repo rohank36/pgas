{
 "cells": [
  {
   "cell_type": "code",
   "execution_count": 9,
   "id": "a6147ec9",
   "metadata": {},
   "outputs": [],
   "source": [
    "import gymnasium as gym\n",
    "import numpy as np\n",
    "from tqdm import tqdm \n",
    "import torch"
   ]
  },
  {
   "cell_type": "code",
   "execution_count": 6,
   "id": "c101ff52",
   "metadata": {},
   "outputs": [
    {
     "data": {
      "text/plain": [
       "[0, 1, 2, 3, 4, 5, 6, 7, 8, 9]"
      ]
     },
     "execution_count": 6,
     "metadata": {},
     "output_type": "execute_result"
    }
   ],
   "source": [
    "n = 10\n",
    "rews = [i for i in range(n)]\n",
    "rtgs = [0]*n\n",
    "for i in reversed(range(n)):\n",
    "    rtgs[i] = rews[i] + (rtgs[i+1] if i+1 < n else 0)\n",
    "\n",
    "rews"
   ]
  },
  {
   "cell_type": "code",
   "execution_count": null,
   "id": "472eb35d",
   "metadata": {},
   "outputs": [
    {
     "name": "stdout",
     "output_type": "stream",
     "text": [
      "Durations: [21, 14, 38, 27, 56]\n",
      "Max Duation: 56\n",
      "Rewards: [22.0, 14.0, 17.0, 13.0, 18.0]\n",
      "Max Reward: 22.0\n"
     ]
    }
   ],
   "source": [
    "#Test version\n",
    "env = gym.make('CartPole-v1',render_mode=\"human\")\n",
    "#env = gym.make('CartPole-v1')\n",
    "obs,info = env.reset(seed=42)\n",
    "total_reward = 0\n",
    "episode_rewards = []\n",
    "episode_durations = []\n",
    "for i in range(100):\n",
    "    action = env.action_space.sample()\n",
    "    observation, reward, terminated, truncated, info = env.step(action)\n",
    "    total_reward += reward\n",
    "    \n",
    "    if terminated or truncated:\n",
    "        episode_rewards.append(total_reward)\n",
    "        if len(episode_durations) == 0:\n",
    "            episode_durations.append(i)\n",
    "        else:\n",
    "            episode_durations.append(i-episode_durations[len(episode_durations)-1])\n",
    "        total_reward = 0\n",
    "        observation,info = env.reset()\n",
    "\n",
    "env.close()\n",
    "print(f\"Durations: {episode_durations}\")\n",
    "print(f\"Max Duation: {max(episode_durations)}\")\n",
    "print(f\"Rewards: {episode_rewards}\")\n",
    "print(f\"Max Reward: {max(episode_rewards)}\")"
   ]
  },
  {
   "cell_type": "code",
   "execution_count": 28,
   "id": "645f9f56",
   "metadata": {},
   "outputs": [
    {
     "name": "stdout",
     "output_type": "stream",
     "text": [
      "asdfasdf\n"
     ]
    }
   ],
   "source": [
    "if env.action_space.n == 2: print('asdfasdf')"
   ]
  },
  {
   "cell_type": "code",
   "execution_count": 39,
   "id": "d0395822",
   "metadata": {},
   "outputs": [
    {
     "name": "stdout",
     "output_type": "stream",
     "text": [
      "Here at t=14. Terminated = True Truncated = False\n",
      "Here at t=27. Terminated = True Truncated = False\n",
      "Here at t=44. Terminated = True Truncated = False\n",
      "[np.int64(0), np.int64(0), np.int64(0), np.int64(1), np.int64(1), np.int64(0), np.int64(1), np.int64(0), np.int64(0), np.int64(1), np.int64(1), np.int64(1), np.int64(0), np.int64(0), np.int64(1), np.int64(1), np.int64(0), np.int64(1), np.int64(1), np.int64(1), np.int64(1), np.int64(1), np.int64(0), np.int64(1), np.int64(1), np.int64(1), np.int64(0), np.int64(0), np.int64(0), np.int64(0), np.int64(1), np.int64(1), np.int64(0), np.int64(1), np.int64(0), np.int64(0), np.int64(0), np.int64(1), np.int64(0), np.int64(0), np.int64(0), np.int64(1), np.int64(1), np.int64(1), np.int64(0), np.int64(1), np.int64(1), np.int64(0), np.int64(0), np.int64(1)]\n",
      "50\n",
      "[1.0, 1.0, 1.0, 1.0, 1.0, 1.0, 1.0, 1.0, 1.0, 1.0, 1.0, 1.0, 1.0, 1.0, 1.0, 1.0, 1.0, 1.0, 1.0, 1.0, 1.0, 1.0, 1.0, 1.0, 1.0, 1.0, 1.0, 1.0, 1.0, 1.0, 1.0, 1.0, 1.0, 1.0, 1.0, 1.0, 1.0, 1.0, 1.0, 1.0, 1.0, 1.0, 1.0, 1.0, 1.0, 1.0, 1.0, 1.0, 1.0, 1.0]\n",
      "50\n"
     ]
    }
   ],
   "source": [
    "#Test version\n",
    "#env = gym.make('CartPole-v1',render_mode=\"human\")\n",
    "env = gym.make('CartPole-v1')\n",
    "obs,info = env.reset(seed=42)\n",
    "\n",
    "traj_rews = []\n",
    "traj_acts = []\n",
    "\n",
    "for t in range(50):\n",
    "    action = env.action_space.sample()\n",
    "    traj_acts.append(action)\n",
    "    obs, reward, terminated, truncated, info = env.step(action)\n",
    "    traj_rews.append(reward)\n",
    "\n",
    "    if terminated or truncated:\n",
    "        print(f\"Here at t={t}. Terminated = {terminated} Truncated = {truncated}\")\n",
    "        obs,info = env.reset()\n",
    "\n",
    "env.close()\n",
    "print(traj_acts)\n",
    "print(len(traj_acts))\n",
    "print(traj_rews)\n",
    "print(len(traj_rews))"
   ]
  },
  {
   "cell_type": "code",
   "execution_count": 53,
   "id": "d2531bd8",
   "metadata": {},
   "outputs": [],
   "source": [
    "class Policy(torch.nn.Module):\n",
    "    def __init__(self, in_dim:int, out_dim:int):\n",
    "        super().__init__()\n",
    "        \n",
    "        self.ffnn = torch.nn.Sequential(\n",
    "            torch.nn.Linear(in_dim,64),\n",
    "            torch.nn.ReLU(),\n",
    "            torch.nn.Linear(64,out_dim),\n",
    "        )\n",
    "\n",
    "    def surrogate_loss_fn(self):\n",
    "        pass\n",
    "\n",
    "    def get_action(self,state):\n",
    "        logits = self(state)\n",
    "        prob_dist = torch.distributions.Categorical(logits=logits)\n",
    "        act = prob_dist.sample()\n",
    "        return act\n",
    "    \n",
    "    def forward(self,x):\n",
    "        logits = self.ffnn(x)\n",
    "        return logits"
   ]
  },
  {
   "cell_type": "code",
   "execution_count": 89,
   "id": "4885a894",
   "metadata": {},
   "outputs": [
    {
     "name": "stdout",
     "output_type": "stream",
     "text": [
      "1\n"
     ]
    }
   ],
   "source": [
    "p = Policy(4,2)\n",
    "env = gym.make('CartPole-v1')\n",
    "obs,info = env.reset()\n",
    "\n",
    "aten_state = torch.tensor(obs)\n",
    "action = p.get_action(aten_state)\n",
    "print(action.item())\n",
    "next_state,reward,terminated,truncated,_ = env.step(action.item())\n",
    "env.close()"
   ]
  },
  {
   "cell_type": "code",
   "execution_count": null,
   "id": "0a881034",
   "metadata": {},
   "outputs": [],
   "source": []
  }
 ],
 "metadata": {
  "kernelspec": {
   "display_name": "rl_env",
   "language": "python",
   "name": "python3"
  },
  "language_info": {
   "codemirror_mode": {
    "name": "ipython",
    "version": 3
   },
   "file_extension": ".py",
   "mimetype": "text/x-python",
   "name": "python",
   "nbconvert_exporter": "python",
   "pygments_lexer": "ipython3",
   "version": "3.10.16"
  }
 },
 "nbformat": 4,
 "nbformat_minor": 5
}
